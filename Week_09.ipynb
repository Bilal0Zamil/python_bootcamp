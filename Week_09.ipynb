{
 "cells": [
  {
   "cell_type": "markdown",
   "metadata": {},
   "source": [
    "# Generators and Iterators"
   ]
  },
  {
   "cell_type": "code",
   "execution_count": 20,
   "metadata": {},
   "outputs": [
    {
     "name": "stdout",
     "output_type": "stream",
     "text": [
      "baseball\n",
      "soccer\n",
      "football\n",
      "hockey\n",
      "basketball\n"
     ]
    },
    {
     "ename": "StopIteration",
     "evalue": "",
     "output_type": "error",
     "traceback": [
      "\u001b[1;31m---------------------------------------------------------------------------\u001b[0m",
      "\u001b[1;31mStopIteration\u001b[0m                             Traceback (most recent call last)",
      "\u001b[1;32m<ipython-input-20-50694ea25a70>\u001b[0m in \u001b[0;36m<module>\u001b[1;34m()\u001b[0m\n\u001b[0;32m     11\u001b[0m     \u001b[0mprint\u001b[0m\u001b[1;33m(\u001b[0m\u001b[0mitem\u001b[0m\u001b[1;33m)\u001b[0m\u001b[1;33m\u001b[0m\u001b[0m\n\u001b[0;32m     12\u001b[0m \u001b[1;33m\u001b[0m\u001b[0m\n\u001b[1;32m---> 13\u001b[1;33m \u001b[0mprint\u001b[0m\u001b[1;33m(\u001b[0m\u001b[0mnext\u001b[0m\u001b[1;33m(\u001b[0m\u001b[0mmy_iter\u001b[0m\u001b[1;33m)\u001b[0m\u001b[1;33m)\u001b[0m\u001b[1;33m\u001b[0m\u001b[0m\n\u001b[0m",
      "\u001b[1;31mStopIteration\u001b[0m: "
     ]
    }
   ],
   "source": [
    "# creating a basic iterator from an iterable\n",
    "\n",
    "sports = ['baseball', 'soccer', 'football', 'hockey', 'basketball']\n",
    "\n",
    "my_iter = iter(sports)\n",
    "\n",
    "print(next(my_iter))\n",
    "print(next(my_iter))\n",
    "\n",
    "for item in my_iter:\n",
    "    print(item)\n",
    "    \n",
    "print(next(my_iter))"
   ]
  },
  {
   "cell_type": "code",
   "execution_count": 22,
   "metadata": {},
   "outputs": [
    {
     "name": "stdout",
     "output_type": "stream",
     "text": [
      "a\n",
      "b\n",
      "c\n",
      "d\n",
      "e\n",
      "f\n",
      "g\n",
      "h\n",
      "i\n",
      "j\n",
      "k\n",
      "l\n",
      "m\n",
      "n\n",
      "o\n",
      "p\n",
      "q\n",
      "r\n",
      "s\n",
      "t\n",
      "u\n",
      "v\n",
      "w\n",
      "x\n",
      "y\n",
      "z\n"
     ]
    }
   ],
   "source": [
    "# creating our own iterator\n",
    "\n",
    "class Alphabet():\n",
    "    def __iter__(self):\n",
    "        self.letters = 'abcdefghijklmnopqrstuvwxyz'\n",
    "        self.index = 0\n",
    "        return self\n",
    "    \n",
    "    def __next__(self):\n",
    "        if self.index <= 25:\n",
    "            char = self.letters[self.index]\n",
    "            self.index += 1\n",
    "            return char\n",
    "        else:\n",
    "            raise StopIteration\n",
    "    \n",
    "for char in Alphabet():\n",
    "    print(char)"
   ]
  },
  {
   "cell_type": "code",
   "execution_count": 14,
   "metadata": {},
   "outputs": [
    {
     "name": "stdout",
     "output_type": "stream",
     "text": [
      "Generator Start Value: 0\n",
      "For Loop X Value: 0\n",
      "Generator Start Value: 1\n",
      "For Loop X Value: 1\n",
      "Generator Start Value: 2\n",
      "For Loop X Value: 2\n",
      "Generator Start Value: 3\n",
      "For Loop X Value: 3\n",
      "Generator Start Value: 4\n",
      "For Loop X Value: 4\n"
     ]
    }
   ],
   "source": [
    "# creating our own range function with start, stop, and step parameters\n",
    "\n",
    "def myRange(stop, start=0, step=1):\n",
    "    while start < stop:\n",
    "        print(\"Generator Start Value: {}\".format(start))\n",
    "        yield start\n",
    "        start += step\n",
    "        \n",
    "for x in myRange(5):\n",
    "    print(\"For Loop X Value: {}\".format(x))"
   ]
  },
  {
   "cell_type": "markdown",
   "metadata": {},
   "source": [
    "# Decorators"
   ]
  },
  {
   "cell_type": "code",
   "execution_count": 60,
   "metadata": {},
   "outputs": [
    {
     "name": "stdout",
     "output_type": "stream",
     "text": [
      "=======\n",
      "John!\n",
      "=======\n"
     ]
    }
   ],
   "source": [
    "# creating and applying our own decorator using the @ symbol\n",
    "\n",
    "def decorator(func):\n",
    "    def wrap():\n",
    "        print(\"=======\")\n",
    "        func()\n",
    "        print(\"=======\")\n",
    "    return wrap\n",
    "\n",
    "@decorator\n",
    "def printName():\n",
    "    print(\"John!\")\n",
    "    \n",
    "printName()"
   ]
  },
  {
   "cell_type": "code",
   "execution_count": 57,
   "metadata": {},
   "outputs": [
    {
     "name": "stdout",
     "output_type": "stream",
     "text": [
      "Hello!\n",
      "Hello!\n",
      "Hello!\n",
      "Hello!\n"
     ]
    }
   ],
   "source": [
    "# creating a decorator that takes in parameters\n",
    "\n",
    "def run_times(num):\n",
    "    def wrap(func):\n",
    "        for i in range(num):\n",
    "            func()\n",
    "    return wrap\n",
    "\n",
    "@run_times(4)\n",
    "def sayHello():\n",
    "    print(\"Hello!\")"
   ]
  },
  {
   "cell_type": "code",
   "execution_count": 65,
   "metadata": {},
   "outputs": [
    {
     "name": "stdout",
     "output_type": "stream",
     "text": [
      "Happy birthday Paul, you are now 44.\n"
     ]
    }
   ],
   "source": [
    "# creating a decorator for a function that accepts parameters\n",
    "\n",
    "def birthday(func):\n",
    "    def wrap(name, age):\n",
    "        func(name, age + 1)\n",
    "    return wrap\n",
    "\n",
    "@birthday\n",
    "def celebrate(name, age):\n",
    "    print(\"Happy birthday {}, you are now {}.\".format(name, age))\n",
    "    \n",
    "celebrate(\"Paul\", 43)"
   ]
  },
  {
   "cell_type": "code",
   "execution_count": 75,
   "metadata": {},
   "outputs": [
    {
     "name": "stdout",
     "output_type": "stream",
     "text": [
      "What is the password?klj;\n",
      "Access Denied\n"
     ]
    }
   ],
   "source": [
    "# real world sim, restricting function access\n",
    "\n",
    "def login_required(func):\n",
    "    def wrap(user):\n",
    "        password = input(\"What is the password?\")\n",
    "        if password == user[\"password\"]:\n",
    "            func(user)\n",
    "        else:\n",
    "            print(\"Access Denied\")\n",
    "    return wrap\n",
    "\n",
    "@login_required\n",
    "def restrictedFunc(user):\n",
    "    print(\"Access granted, welcome {}\".format(user[\"name\"]))\n",
    "    \n",
    "user = { \"name\" : \"Jess\", \"password\" : \"ilywpf\" }\n",
    "          \n",
    "restrictedFunc(user)"
   ]
  },
  {
   "cell_type": "markdown",
   "metadata": {
    "collapsed": true
   },
   "source": [
    "# Modules"
   ]
  },
  {
   "cell_type": "code",
   "execution_count": 8,
   "metadata": {},
   "outputs": [
    {
     "name": "stdout",
     "output_type": "stream",
     "text": [
      "2\n",
      "3\n",
      "3.141592653589793\n"
     ]
    }
   ],
   "source": [
    "# import the entire math module\n",
    "import math\n",
    "\n",
    "print(math.floor(2.5))\n",
    "print(math.ceil(2.5))\n",
    "print(math.pi)"
   ]
  },
  {
   "cell_type": "code",
   "execution_count": 2,
   "metadata": {},
   "outputs": [
    {
     "name": "stdout",
     "output_type": "stream",
     "text": [
      "2\n",
      "3.141592653589793\n"
     ]
    }
   ],
   "source": [
    "# importing only variables and functions rather than an entire module, better efficiency\n",
    "from math import floor, pi\n",
    "\n",
    "print(floor(2.5))\n",
    "# print(ceil(2.5))    will cause error because we only imported floor and pi, not ceil and not all of math\n",
    "print(pi)"
   ]
  },
  {
   "cell_type": "code",
   "execution_count": 4,
   "metadata": {},
   "outputs": [
    {
     "name": "stdout",
     "output_type": "stream",
     "text": [
      "2\n"
     ]
    }
   ],
   "source": [
    "# using the 'as' keyword to create an alias for imports\n",
    "from math import floor as f\n",
    "\n",
    "print(f(2.5))"
   ]
  },
  {
   "cell_type": "code",
   "execution_count": 7,
   "metadata": {},
   "outputs": [
    {
     "name": "stdout",
     "output_type": "stream",
     "text": [
      "5 10\n",
      "John Smith is 37 years old.\n"
     ]
    }
   ],
   "source": [
    "# using the run command with Jupyter Notebook to access our own modules\n",
    "%run test.py\n",
    "\n",
    "print(length, width)\n",
    "\n",
    "printInfo('John Smith', 37)"
   ]
  },
  {
   "cell_type": "markdown",
   "metadata": {
    "collapsed": true
   },
   "source": [
    "# Understanding Algorithmic Complexity"
   ]
  },
  {
   "cell_type": "code",
   "execution_count": 2,
   "metadata": {
    "collapsed": true
   },
   "outputs": [],
   "source": [
    "# creating data collections to test for time complexity\n",
    "import time\n",
    "\n",
    "d = {}  # generate fake dictionary\n",
    "\n",
    "for i in range(10000000):\n",
    "    d[i] = 'value'\n",
    "    \n",
    "big_list = [x for x in range(10000000)]   # generate fake list"
   ]
  },
  {
   "cell_type": "code",
   "execution_count": 14,
   "metadata": {},
   "outputs": [
    {
     "name": "stdout",
     "output_type": "stream",
     "text": [
      "Found in dictionary\n",
      "Elapsed time for dictionary: 0.0\n",
      "Found in list\n",
      "Elapsed time for list: 0.10376596450805664\n"
     ]
    }
   ],
   "source": [
    "# retrieving information and tracking time to see which is faster\n",
    "\n",
    "start_time = time.time()    # tracking time for dictionary\n",
    "\n",
    "if 9999999 in d:\n",
    "    print('Found in dictionary')\n",
    "\n",
    "end_time = time.time() - start_time\n",
    "\n",
    "print('Elapsed time for dictionary: {}'.format(end_time))\n",
    "\n",
    "start_time = time.time()  # tracking time for list\n",
    "\n",
    "if 9999999 in big_list:\n",
    "    print('Found in list')\n",
    "\n",
    "end_time = time.time() - start_time\n",
    "\n",
    "print('Elapsed time for list: {}'.format(end_time))"
   ]
  },
  {
   "cell_type": "code",
   "execution_count": 31,
   "metadata": {
    "collapsed": true
   },
   "outputs": [],
   "source": [
    "# testing a bubble sort vs. insertion sort\n",
    "\n",
    "def bubbleSort(aList):\n",
    "    for i in range(len(aList)):\n",
    "        switched = False\n",
    "        for j in range(len(aList) - 1):\n",
    "            if aList[j] > aList[j + 1]:\n",
    "                aList[j], aList[j + 1] = aList[j + 1], aList[j]\n",
    "                switched = True\n",
    "        if switched == False:\n",
    "            break\n",
    "    return aList\n",
    "\n",
    "def insertionSort(aList):\n",
    "    for i in range(1, len(aList)):\n",
    "        if aList[i] < aList[i - 1]:\n",
    "            for j in range(i, 0, -1):\n",
    "                if aList[j] < aList[j - 1]:\n",
    "                    aList[j], aList[j - 1] = aList[j - 1], aList[j]\n",
    "                else:\n",
    "                    break\n",
    "    return aList"
   ]
  },
  {
   "cell_type": "code",
   "execution_count": 36,
   "metadata": {},
   "outputs": [
    {
     "name": "stdout",
     "output_type": "stream",
     "text": [
      "Elapsed time for Bubble Sort: 2.801460027694702\n",
      "Elapsed time for Insertion Sort: 0.0009980201721191406\n"
     ]
    }
   ],
   "source": [
    "# calling bubble sort and insertion sort to test time complexity\n",
    "from random import randint\n",
    "\n",
    "nums = [randint(0, 100) for x in range(5000)]\n",
    "\n",
    "start_time = time.time()  # tracking time bubble sort\n",
    "bubbleSort(nums)\n",
    "end_time = time.time() - start_time\n",
    "print('Elapsed time for Bubble Sort: {}'.format(end_time))\n",
    "\n",
    "start_time = time.time()  # tracking time insertion sort\n",
    "insertionSort(nums)\n",
    "end_time = time.time() - start_time\n",
    "print('Elapsed time for Insertion Sort: {}'.format(end_time))"
   ]
  },
  {
   "cell_type": "code",
   "execution_count": null,
   "metadata": {
    "collapsed": true
   },
   "outputs": [],
   "source": []
  },
  {
   "cell_type": "code",
   "execution_count": null,
   "metadata": {
    "collapsed": true
   },
   "outputs": [],
   "source": []
  },
  {
   "cell_type": "code",
   "execution_count": null,
   "metadata": {
    "collapsed": true
   },
   "outputs": [],
   "source": []
  },
  {
   "cell_type": "code",
   "execution_count": null,
   "metadata": {
    "collapsed": true
   },
   "outputs": [],
   "source": []
  },
  {
   "cell_type": "markdown",
   "metadata": {},
   "source": [
    "# Monday Exercise 1"
   ]
  },
  {
   "cell_type": "code",
   "execution_count": 1,
   "metadata": {},
   "outputs": [
    {
     "name": "stdout",
     "output_type": "stream",
     "text": [
      "snow\n",
      "jon\n",
      "4\n",
      "3\n",
      "2\n",
      "1\n"
     ]
    }
   ],
   "source": [
    "# creating an iterator that will iterate an iterable in reverse direction\n",
    "\n",
    "class ReverseIter():\n",
    "    def __init__(self, items):\n",
    "        self.items = items\n",
    "        self.i = len(items) - 1\n",
    "    \n",
    "    def __iter__(self):\n",
    "        return self\n",
    "    \n",
    "    def __next__(self):\n",
    "        if self.i >= 0:\n",
    "            item = self.items[self.i]\n",
    "            self.i -= 1\n",
    "            return item\n",
    "        else:\n",
    "            raise StopIteration\n",
    "            \n",
    "rev_iter = ReverseIter([1, 2, 3, 4, 'jon', 'snow'])\n",
    "\n",
    "\n",
    "for num in rev_iter:\n",
    "    print(num)"
   ]
  },
  {
   "cell_type": "code",
   "execution_count": 11,
   "metadata": {},
   "outputs": [
    {
     "name": "stdout",
     "output_type": "stream",
     "text": [
      "worked\n"
     ]
    }
   ],
   "source": [
    "import time\n",
    "\n",
    "time.sleep(5)\n",
    "\n",
    "print('worked')"
   ]
  }
 ],
 "metadata": {
  "kernelspec": {
   "display_name": "Python 3",
   "language": "python",
   "name": "python3"
  },
  "language_info": {
   "codemirror_mode": {
    "name": "ipython",
    "version": 3
   },
   "file_extension": ".py",
   "mimetype": "text/x-python",
   "name": "python",
   "nbconvert_exporter": "python",
   "pygments_lexer": "ipython3",
   "version": "3.6.5"
  }
 },
 "nbformat": 4,
 "nbformat_minor": 2
}
