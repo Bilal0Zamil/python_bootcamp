{
 "cells": [
  {
   "cell_type": "markdown",
   "metadata": {},
   "source": [
    "# Comments & Data Types"
   ]
  },
  {
   "cell_type": "code",
   "execution_count": 1,
   "metadata": {},
   "outputs": [
    {
     "name": "stdout",
     "output_type": "stream",
     "text": [
      "Hello\n"
     ]
    }
   ],
   "source": [
    "# this is a comment\n",
    "\n",
    "print('Hello') # this is also a comment"
   ]
  },
  {
   "cell_type": "code",
   "execution_count": 1,
   "metadata": {
    "scrolled": true
   },
   "outputs": [
    {
     "name": "stdout",
     "output_type": "stream",
     "text": [
      "2\n",
      "10\n"
     ]
    }
   ],
   "source": [
    "# the following are all integers\n",
    "\n",
    "print(2)\n",
    "\n",
    "print(10)"
   ]
  },
  {
   "cell_type": "code",
   "execution_count": 3,
   "metadata": {},
   "outputs": [
    {
     "name": "stdout",
     "output_type": "stream",
     "text": [
      "10.953\n",
      "8.0\n"
     ]
    }
   ],
   "source": [
    "# the following are all floats\n",
    "\n",
    "print(10.953)\n",
    "\n",
    "print(8.0) # even this number is a float"
   ]
  },
  {
   "cell_type": "code",
   "execution_count": 6,
   "metadata": {},
   "outputs": [
    {
     "name": "stdout",
     "output_type": "stream",
     "text": [
      "True\n",
      "False\n"
     ]
    }
   ],
   "source": [
    "# the following are booleans\n",
    "\n",
    "print(True)\n",
    "\n",
    "print(False)"
   ]
  },
  {
   "cell_type": "code",
   "execution_count": 2,
   "metadata": {},
   "outputs": [
    {
     "name": "stdout",
     "output_type": "stream",
     "text": [
      "\n",
      "There's a snake in my boot!\n",
      "True\n"
     ]
    }
   ],
   "source": [
    "# the following are strings\n",
    "\n",
    "print('')\n",
    "\n",
    "print(\"There's a snake in my boot!\")\n",
    "\n",
    "print('True')"
   ]
  },
  {
   "cell_type": "markdown",
   "metadata": {},
   "source": [
    "# Variables"
   ]
  },
  {
   "cell_type": "code",
   "execution_count": 2,
   "metadata": {
    "scrolled": true
   },
   "outputs": [
    {
     "ename": "NameError",
     "evalue": "name 'sport' is not defined",
     "output_type": "error",
     "traceback": [
      "\u001b[1;31m---------------------------------------------------------------------------\u001b[0m",
      "\u001b[1;31mNameError\u001b[0m                                 Traceback (most recent call last)",
      "\u001b[1;32m<ipython-input-2-b0dc95ed88db>\u001b[0m in \u001b[0;36m<module>\u001b[1;34m()\u001b[0m\n\u001b[0;32m      1\u001b[0m \u001b[0mSport\u001b[0m \u001b[1;33m=\u001b[0m \u001b[1;34m'baseball'\u001b[0m    \u001b[1;31m# capital 'S'\u001b[0m\u001b[1;33m\u001b[0m\u001b[0m\n\u001b[1;32m----> 2\u001b[1;33m \u001b[0mprint\u001b[0m\u001b[1;33m(\u001b[0m\u001b[0msport\u001b[0m\u001b[1;33m)\u001b[0m          \u001b[1;31m# lowercase 's'\u001b[0m\u001b[1;33m\u001b[0m\u001b[0m\n\u001b[0m",
      "\u001b[1;31mNameError\u001b[0m: name 'sport' is not defined"
     ]
    }
   ],
   "source": [
    "Sport = 'baseball'    # capital 'S'\n",
    "print(sport)          # lowercase 's'"
   ]
  },
  {
   "cell_type": "code",
   "execution_count": 3,
   "metadata": {},
   "outputs": [
    {
     "name": "stdout",
     "output_type": "stream",
     "text": [
      "5 8.4\n"
     ]
    }
   ],
   "source": [
    "num1 = 5           # storing an integer into a variable\n",
    "\n",
    "num2 = 8.4         # storing a float into a variable\n",
    "\n",
    "print(num1, num2)  # you can print multiple items using commas"
   ]
  },
  {
   "cell_type": "code",
   "execution_count": 5,
   "metadata": {},
   "outputs": [
    {
     "name": "stdout",
     "output_type": "stream",
     "text": [
      "True\n"
     ]
    }
   ],
   "source": [
    "# storing a boolean into a variable\n",
    "\n",
    "switch = True\n",
    "\n",
    "print(switch)"
   ]
  },
  {
   "cell_type": "code",
   "execution_count": 5,
   "metadata": {},
   "outputs": [
    {
     "name": "stdout",
     "output_type": "stream",
     "text": [
      "John Smith 9\n"
     ]
    }
   ],
   "source": [
    "# storing strings into a variable\n",
    "\n",
    "name = 'John Smith'\n",
    "\n",
    "fav_number = '9'\n",
    "\n",
    "print(name, fav_number)       # will print 9 next to the name"
   ]
  },
  {
   "cell_type": "code",
   "execution_count": 5,
   "metadata": {},
   "outputs": [
    {
     "name": "stdout",
     "output_type": "stream",
     "text": [
      "13.4\n"
     ]
    }
   ],
   "source": [
    "# using two variables to create another variable\n",
    "\n",
    "result = num1 + num2\n",
    "\n",
    "print(result)"
   ]
  },
  {
   "cell_type": "code",
   "execution_count": 6,
   "metadata": {},
   "outputs": [
    {
     "name": "stdout",
     "output_type": "stream",
     "text": [
      "14.4\n",
      "72.0\n"
     ]
    }
   ],
   "source": [
    "# adding, deleting, multiplying, dividing from a variable\n",
    "\n",
    "result += 1   # same as saying result = result + 1\n",
    "print(result)\n",
    "\n",
    "result *= num1   # same as saying result = result * num1\n",
    "print(result)"
   ]
  },
  {
   "cell_type": "code",
   "execution_count": 7,
   "metadata": {},
   "outputs": [
    {
     "name": "stdout",
     "output_type": "stream",
     "text": [
      "John\n",
      "Sam\n"
     ]
    }
   ],
   "source": [
    "# defining a variable and overwriting it's value\n",
    "\n",
    "name = 'John'\n",
    "print(name)\n",
    "\n",
    "name = 'Sam'\n",
    "print(name)"
   ]
  },
  {
   "cell_type": "markdown",
   "metadata": {},
   "source": [
    "# Working with Strings"
   ]
  },
  {
   "cell_type": "code",
   "execution_count": 8,
   "metadata": {},
   "outputs": [
    {
     "name": "stdout",
     "output_type": "stream",
     "text": [
      "John Smith\n"
     ]
    }
   ],
   "source": [
    "# using the addition operator without variables\n",
    "\n",
    "name = 'John' + ' ' + 'Smith'\n",
    "\n",
    "print(name)"
   ]
  },
  {
   "cell_type": "code",
   "execution_count": 9,
   "metadata": {},
   "outputs": [
    {
     "name": "stdout",
     "output_type": "stream",
     "text": [
      "John Smith\n"
     ]
    }
   ],
   "source": [
    "# using the addition operator with variables\n",
    "\n",
    "first_name = 'John'\n",
    "last_name = 'Smith'\n",
    "\n",
    "full_name = first_name + ' ' + last_name\n",
    "\n",
    "print(full_name)"
   ]
  },
  {
   "cell_type": "code",
   "execution_count": 10,
   "metadata": {},
   "outputs": [
    {
     "name": "stdout",
     "output_type": "stream",
     "text": [
      "Hello John\n",
      "Hello John, you are 28 years old!\n"
     ]
    }
   ],
   "source": [
    "# injecting variables using the format method\n",
    "\n",
    "name = 'John'\n",
    "\n",
    "print('Hello {}'.format(name))\n",
    "\n",
    "print('Hello {}, you are {} years old!'.format(name, 28))"
   ]
  },
  {
   "cell_type": "code",
   "execution_count": 11,
   "metadata": {},
   "outputs": [
    {
     "name": "stdout",
     "output_type": "stream",
     "text": [
      "Hello John\n"
     ]
    }
   ],
   "source": [
    "# using the new f strings\n",
    "\n",
    "name = 'John'\n",
    "\n",
    "print(f'Hello {name}')"
   ]
  },
  {
   "cell_type": "code",
   "execution_count": 12,
   "metadata": {},
   "outputs": [
    {
     "name": "stdout",
     "output_type": "stream",
     "text": [
      "Hello, John\n"
     ]
    }
   ],
   "source": [
    "# one major difference between versions 2 & 3\n",
    "\n",
    "name = 'John'\n",
    "\n",
    "print('Hello, %s' % name)"
   ]
  },
  {
   "cell_type": "code",
   "execution_count": 13,
   "metadata": {},
   "outputs": [
    {
     "name": "stdout",
     "output_type": "stream",
     "text": [
      "H\n",
      "e\n",
      "o\n"
     ]
    }
   ],
   "source": [
    "# using indexes to print each element\n",
    "\n",
    "word = 'Hello'\n",
    "\n",
    "print(word[0])        # will output 'H'\n",
    "print(word[1])        # will output 'e'\n",
    "print(word[-1])       # will output 'o'"
   ]
  },
  {
   "cell_type": "code",
   "execution_count": 14,
   "metadata": {},
   "outputs": [
    {
     "name": "stdout",
     "output_type": "stream",
     "text": [
      "He\n"
     ]
    }
   ],
   "source": [
    "print(word[0:2])      # will output 'He'"
   ]
  },
  {
   "cell_type": "markdown",
   "metadata": {},
   "source": [
    "# Manipulating Strings"
   ]
  },
  {
   "cell_type": "code",
   "execution_count": 15,
   "metadata": {},
   "outputs": [
    {
     "name": "stdout",
     "output_type": "stream",
     "text": [
      "John Smith\n"
     ]
    }
   ],
   "source": [
    "# using the title method to capitalize a string\n",
    "\n",
    "name = 'john smith'\n",
    "\n",
    "print(name.title())"
   ]
  },
  {
   "cell_type": "code",
   "execution_count": 16,
   "metadata": {},
   "outputs": [
    {
     "name": "stdout",
     "output_type": "stream",
     "text": [
      "Hello there.\n"
     ]
    }
   ],
   "source": [
    "# replacing an exclamation point with a period\n",
    "\n",
    "words = 'Hello there!'\n",
    "\n",
    "print(words.replace('!', '.'))"
   ]
  },
  {
   "cell_type": "code",
   "execution_count": 17,
   "metadata": {},
   "outputs": [
    {
     "name": "stdout",
     "output_type": "stream",
     "text": [
      "5\n"
     ]
    }
   ],
   "source": [
    "# finding the starting index of our searched term\n",
    "\n",
    "s = 'Look over that way'\n",
    "\n",
    "print(s.find('over'))"
   ]
  },
  {
   "cell_type": "code",
   "execution_count": 18,
   "metadata": {},
   "outputs": [
    {
     "name": "stdout",
     "output_type": "stream",
     "text": [
      "john\n"
     ]
    }
   ],
   "source": [
    "# removing white space with strip\n",
    "\n",
    "name = '   john   '\n",
    "\n",
    "print(name.strip())"
   ]
  },
  {
   "cell_type": "code",
   "execution_count": 19,
   "metadata": {},
   "outputs": [
    {
     "name": "stdout",
     "output_type": "stream",
     "text": [
      "['These', 'words', 'are', 'separated', 'by', 'spaces']\n"
     ]
    }
   ],
   "source": [
    "# converting a string into a list of words\n",
    "\n",
    "s = 'These words are separated by spaces'\n",
    "\n",
    "print(s.split(' '))"
   ]
  },
  {
   "cell_type": "markdown",
   "metadata": {},
   "source": [
    "# Friday Project: Printing Receipts"
   ]
  },
  {
   "cell_type": "code",
   "execution_count": 68,
   "metadata": {},
   "outputs": [
    {
     "name": "stdout",
     "output_type": "stream",
     "text": [
      "**************************************************\n",
      "\t\tCoding Temple, Inc.\n",
      "\t\t283 Franklin St.\n",
      "\t\tBoston, Ma\n",
      "==================================================\n",
      "\tProduct Name\tProduct Price\n",
      "\tBooks\t\t$49.95\n",
      "\tComputer\t$579.99\n",
      "\tMonitor\t\t$124.89\n",
      "==================================================\n",
      "\t\t\tTotal\n",
      "\t\t\t$754.83\n",
      "==================================================\n",
      "\n",
      "\tThanks for shopping with us today!\n",
      "\n",
      "**************************************************\n"
     ]
    }
   ],
   "source": [
    "# create a product and price for three items\n",
    "p1_name, p1_price = 'Books', 49.95\n",
    "p2_name, p2_price = 'Computer', 579.99\n",
    "p3_name, p3_price = 'Monitor', 124.89\n",
    "\n",
    "# create a company name and information\n",
    "company_name = 'coding temple, inc.'\n",
    "company_address = '283 Franklin St.'\n",
    "company_city = 'Boston, MA'\n",
    "\n",
    "# declare ending message\n",
    "message = 'Thanks for shopping with us today!'\n",
    "\n",
    "# create a top border\n",
    "print('*' * 50)\n",
    "\n",
    "# print company information first using format\n",
    "print('\\t\\t{}'.format(company_name.title()))\n",
    "print('\\t\\t{}'.format(company_address.title()))\n",
    "print('\\t\\t{}'.format(company_city.title()))\n",
    "\n",
    "# print a line between sections\n",
    "print('=' * 50)\n",
    "\n",
    "# print out header for section of items\n",
    "print('\\tProduct Name\\tProduct Price')\n",
    "\n",
    "# create a print statement for each item\n",
    "print('\\t{}\\t\\t${}'.format(p1_name.title(), p1_price))\n",
    "print('\\t{}\\t${}'.format(p2_name.title(), p2_price))\n",
    "print('\\t{}\\t\\t${}'.format(p3_name.title(), p3_price))\n",
    "\n",
    "# print a line between sections\n",
    "print('=' * 50)\n",
    "\n",
    "# print out header for section of total\n",
    "print('\\t\\t\\tTotal')\n",
    "\n",
    "# calculate total price and print out\n",
    "total = p1_price + p2_price + p3_price\n",
    "print('\\t\\t\\t${}'.format(total))\n",
    "\n",
    "# print a line between sections\n",
    "print('=' * 50)\n",
    "\n",
    "# output thank you message\n",
    "print('\\n\\t{}\\n'.format(message))\n",
    "\n",
    "# create a bottom border\n",
    "print('*' * 50)"
   ]
  }
 ],
 "metadata": {
  "kernelspec": {
   "display_name": "Python 3",
   "language": "python",
   "name": "python3"
  },
  "language_info": {
   "codemirror_mode": {
    "name": "ipython",
    "version": 3
   },
   "file_extension": ".py",
   "mimetype": "text/x-python",
   "name": "python",
   "nbconvert_exporter": "python",
   "pygments_lexer": "ipython3",
   "version": "3.6.5"
  }
 },
 "nbformat": 4,
 "nbformat_minor": 2
}
