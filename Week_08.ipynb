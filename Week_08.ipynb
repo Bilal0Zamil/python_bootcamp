{
 "cells": [
  {
   "cell_type": "code",
   "execution_count": 1,
   "metadata": {},
   "outputs": [
    {
     "data": {
      "text/plain": [
       "True"
      ]
     },
     "execution_count": 1,
     "metadata": {},
     "output_type": "execute_result"
    }
   ],
   "source": [
    "# answer to question Thursday: Question 2\n",
    "\n",
    "def searchList(aList, num):\n",
    "    result = False\n",
    "    \n",
    "    for item in aList:\n",
    "        if item == num:\n",
    "            return True\n",
    "        elif isinstance(item, list):\n",
    "            result = searchList(item, num)\n",
    "    \n",
    "    return result\n",
    "\n",
    "searchList([2, 3, [18, 22], 6], 22)"
   ]
  }
 ],
 "metadata": {
  "kernelspec": {
   "display_name": "Python 3",
   "language": "python",
   "name": "python3"
  },
  "language_info": {
   "codemirror_mode": {
    "name": "ipython",
    "version": 3
   },
   "file_extension": ".py",
   "mimetype": "text/x-python",
   "name": "python",
   "nbconvert_exporter": "python",
   "pygments_lexer": "ipython3",
   "version": "3.6.5"
  }
 },
 "nbformat": 4,
 "nbformat_minor": 2
}
