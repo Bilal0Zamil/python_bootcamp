{
 "cells": [
  {
   "cell_type": "markdown",
   "metadata": {},
   "source": [
    "# User Input & Type Converting"
   ]
  },
  {
   "cell_type": "code",
   "execution_count": 1,
   "metadata": {},
   "outputs": [
    {
     "name": "stdout",
     "output_type": "stream",
     "text": [
      "What is your name? John Smith\n",
      "John Smith\n"
     ]
    }
   ],
   "source": [
    "# accepting and outputting user input\n",
    "\n",
    "print(input('What is your name? '))"
   ]
  },
  {
   "cell_type": "code",
   "execution_count": 2,
   "metadata": {},
   "outputs": [
    {
     "name": "stdout",
     "output_type": "stream",
     "text": [
      "What is your name? John Smith\n",
      "Hello John Smith!\n"
     ]
    }
   ],
   "source": [
    "# saving what the user inputs\n",
    "\n",
    "ans = input('What is your name? ')\n",
    "\n",
    "print('Hello {}!'.format(ans))"
   ]
  },
  {
   "cell_type": "code",
   "execution_count": 3,
   "metadata": {},
   "outputs": [
    {
     "name": "stdout",
     "output_type": "stream",
     "text": [
      "<class 'int'>\n"
     ]
    }
   ],
   "source": [
    "# how to check the data type of a variable\n",
    "\n",
    "num = 5\n",
    "\n",
    "print(type(num))"
   ]
  },
  {
   "cell_type": "code",
   "execution_count": 4,
   "metadata": {},
   "outputs": [
    {
     "name": "stdout",
     "output_type": "stream",
     "text": [
      "Type a number to add: 9\n",
      "100 + 9 = 109\n"
     ]
    }
   ],
   "source": [
    "# working with user input to perform calculations\n",
    "\n",
    "ans = input('Type a number to add: ')\n",
    "\n",
    "result = 100 + int(ans)\n",
    "\n",
    "print('100 + {} = {}'.format(ans, result))"
   ]
  },
  {
   "cell_type": "code",
   "execution_count": 5,
   "metadata": {},
   "outputs": [
    {
     "name": "stdout",
     "output_type": "stream",
     "text": [
      "Type a number to add: 45.5\n",
      "100 + 45.5 = 145.5\n",
      "The program did not break!\n"
     ]
    }
   ],
   "source": [
    "# using the try and except blocks, use tab to indent where necessary\n",
    "\n",
    "try:\n",
    "    ans = float(input('Type a number to add: '))\n",
    "    print('100 + {} = {}'.format(ans, 100 + ans))\n",
    "except:\n",
    "    print('You did not put in a valid number!')\n",
    "\n",
    "    # without try/except print statement would not get hit if error occurs\n",
    "print('The program did not break!')"
   ]
  },
  {
   "cell_type": "code",
   "execution_count": null,
   "metadata": {
    "collapsed": true
   },
   "outputs": [],
   "source": []
  }
 ],
 "metadata": {
  "kernelspec": {
   "display_name": "Python 3",
   "language": "python",
   "name": "python3"
  },
  "language_info": {
   "codemirror_mode": {
    "name": "ipython",
    "version": 3
   },
   "file_extension": ".py",
   "mimetype": "text/x-python",
   "name": "python",
   "nbconvert_exporter": "python",
   "pygments_lexer": "ipython3",
   "version": "3.6.5"
  }
 },
 "nbformat": 4,
 "nbformat_minor": 2
}
